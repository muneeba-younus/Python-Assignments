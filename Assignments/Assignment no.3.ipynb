{
 "cells": [
  {
   "cell_type": "code",
   "execution_count": 5,
   "id": "68bd4958",
   "metadata": {},
   "outputs": [
    {
     "name": "stdout",
     "output_type": "stream",
     "text": [
      "Twinkle, twinkle, little star,\n",
      "\tHow I wonder what you are!\n",
      "\t\tUp above the world so high,\n",
      "\t\tLike a diamond in the sky.\n",
      "Twinkle, twinkle, little star,\n",
      "\tHow I wonder what you are\n"
     ]
    }
   ],
   "source": [
    "# Write a Python program to print the following string in a specific format (see the output).\n",
    "print(\"Twinkle, twinkle, little star,\\n\\tHow I wonder what you are!\\n\\t\\tUp above the world so high,\\n\\t\\tLike a diamond in the sky.\\nTwinkle, twinkle, little star,\\n\\tHow I wonder what you are\")"
   ]
  },
  {
   "cell_type": "code",
   "execution_count": 11,
   "id": "88d6db2f",
   "metadata": {},
   "outputs": [
    {
     "name": "stdout",
     "output_type": "stream",
     "text": [
      "Python version3.8.8 (default, Apr 13 2021, 15:08:03) [MSC v.1916 64 bit (AMD64)]\n"
     ]
    }
   ],
   "source": [
    "# Write a Python program to get the Python version you are using\n",
    "import sys\n",
    "print(\"Python version\" + sys.version)"
   ]
  },
  {
   "cell_type": "code",
   "execution_count": 22,
   "id": "0ef7e82d",
   "metadata": {},
   "outputs": [
    {
     "name": "stdout",
     "output_type": "stream",
     "text": [
      "Current Date: 2021-10-21\n",
      "Current Time: 22:37:54\n"
     ]
    }
   ],
   "source": [
    "# Write a Python program to display the current date and time.\n",
    "from datetime import datetime\n",
    "current = datetime.now()\n",
    "print (\"Current Date: \" + current.strftime(\"%Y-%m-%d\") + \"\\nCurrent Time: \" + current.strftime(\"%H:%M:%S\"))"
   ]
  },
  {
   "cell_type": "code",
   "execution_count": 40,
   "id": "39659fb0",
   "metadata": {},
   "outputs": [
    {
     "name": "stdout",
     "output_type": "stream",
     "text": [
      "Enter the value of radius: 3\n",
      "\n",
      "The Area of a Circle is:  28.274333882308138\n"
     ]
    }
   ],
   "source": [
    "# Write a Python program which accepts the radius of a circle from the user and compute the area. \n",
    "from math import pi\n",
    "radius = float(input(\"Enter the value of radius: \"))\n",
    "radius = pi*radius**2\n",
    "print(\"\\nThe Area of a Circle is: \" , radius)"
   ]
  },
  {
   "cell_type": "code",
   "execution_count": 29,
   "id": "c78af80d",
   "metadata": {},
   "outputs": [
    {
     "name": "stdout",
     "output_type": "stream",
     "text": [
      "Enter your First Name: muneeba\n",
      "Enter your Last Name: younus\n",
      "Reverse Name: younus muneeba\n"
     ]
    }
   ],
   "source": [
    "# Write a Python program which accepts the user's first and last name and print them in reverse order with a space between them. \n",
    "f_name = input(\"Enter your First Name: \")\n",
    "l_name = input(\"Enter your Last Name: \")\n",
    "\n",
    "print(\"Name in Reverse Order: \" + l_name + \" \" + f_name)"
   ]
  },
  {
   "cell_type": "code",
   "execution_count": 39,
   "id": "190ac33e",
   "metadata": {},
   "outputs": [
    {
     "name": "stdout",
     "output_type": "stream",
     "text": [
      "Enter 1st Number: 23\n",
      "Enter 2nd Number: 23\n",
      "Addition:  46\n"
     ]
    }
   ],
   "source": [
    "# Write a python program which takes two inputs from user and print them addition \n",
    "f_num = int(input(\"Enter 1st Number: \"))\n",
    "s_num = int(input(\"Enter 2nd Number: \"))\n",
    "sum = f_num + s_num\n",
    "print(\"Addition: \", sum)"
   ]
  },
  {
   "cell_type": "code",
   "execution_count": 45,
   "id": "79d677f5",
   "metadata": {},
   "outputs": [
    {
     "name": "stdout",
     "output_type": "stream",
     "text": [
      "Enter English Marks: 89\n",
      "Enter Urdu Marks: 87\n",
      "Enter Islamiat Marks: 78\n",
      "Enter Mathematics Marks: 85\n",
      "Enter Science Marks: 75\n",
      "\n",
      "Obtained Marks:  414\n",
      "Percentage:  82.8\n",
      "Grade: A+\n"
     ]
    }
   ],
   "source": [
    "# Write a program which takes 5 inputs from user for different subject’s marks, total it and generate mark sheet using grades ?\n",
    "marks1 = int(input(\"Enter English Marks: \"))\n",
    "marks2 = int(input(\"Enter Urdu Marks: \"))\n",
    "marks3 = int(input(\"Enter Islamiat Marks: \"))\n",
    "marks4 = int(input(\"Enter Mathematics Marks: \"))\n",
    "marks5 = int(input(\"Enter Science Marks: \"))\n",
    "\n",
    "sum = marks1+marks2+marks3+marks4+marks5\n",
    "percent = (sum/500)*100\n",
    "\n",
    "print(\"\\nObtained Marks: \",sum)\n",
    "print(\"Percentage: \",percent)\n",
    "\n",
    "if (percent > 79 and percent <= 100):\n",
    "    print(\"Grade: A+\")\n",
    "elif (percent > 69 and percent <= 79):\n",
    "    print(\"Grade: A\")\n",
    "elif (percent > 59 and percent <= 69):\n",
    "    print(\"Grade: B\")\n",
    "elif (percent > 49 and percent <= 59):\n",
    "    print(\"Grade: C\")\n",
    "elif (percent > 34 and percent <= 49):\n",
    "    print(\"Grade: D\")\n",
    "else:\n",
    "    print(\"Grade: Fail\")"
   ]
  },
  {
   "cell_type": "code",
   "execution_count": 48,
   "id": "fa5d0350",
   "metadata": {},
   "outputs": [
    {
     "name": "stdout",
     "output_type": "stream",
     "text": [
      "Enter your number: 22\n",
      "22  is an Even Number.\n"
     ]
    }
   ],
   "source": [
    "# Write a program which take input from user and identify that the given number is even or odd?\n",
    "num = int(input(\"Enter your number: \"))\n",
    "if (num%2 == 0):\n",
    "    print(num, \" is an Even Number.\")\n",
    "else:\n",
    "     print(num, \" is an Odd Number.\")"
   ]
  },
  {
   "cell_type": "code",
   "execution_count": 49,
   "id": "0dc2b8a8",
   "metadata": {},
   "outputs": [
    {
     "name": "stdout",
     "output_type": "stream",
     "text": [
      "The length of the list is:  7\n"
     ]
    }
   ],
   "source": [
    "# Write a program which print the length of the list?\n",
    "list = [\"Muneeba\",\"Ayesha\",\"Madiha\",\"Yusra\",\"Alsa\",\"Nimra\",\"Aqsa\"]\n",
    "print(\"The length of the list is: \",len(list))"
   ]
  },
  {
   "cell_type": "code",
   "execution_count": 6,
   "id": "cd802d12",
   "metadata": {},
   "outputs": [
    {
     "data": {
      "text/plain": [
       "55"
      ]
     },
     "execution_count": 6,
     "metadata": {},
     "output_type": "execute_result"
    }
   ],
   "source": [
    "# Write a Python program to sum all the numeric items in a list? \n",
    "list=[1,2,3,4,5,6,7,8,9,10]\n",
    "sum(list)"
   ]
  },
  {
   "cell_type": "code",
   "execution_count": 10,
   "id": "42a454d5",
   "metadata": {},
   "outputs": [
    {
     "name": "stdout",
     "output_type": "stream",
     "text": [
      "The Largest Number in the list is:  546\n"
     ]
    }
   ],
   "source": [
    "# Write a Python program to get the largest number from a numeric list\n",
    "list=[4,5,63,2,546,13,11,67,89,63,32,45]\n",
    "list.sort()\n",
    "\n",
    "print(\"The Largest Number in the list is: \",list[-1])"
   ]
  },
  {
   "cell_type": "code",
   "execution_count": 18,
   "id": "327a949b",
   "metadata": {},
   "outputs": [
    {
     "name": "stdout",
     "output_type": "stream",
     "text": [
      "[1, 1, 2, 3]\n"
     ]
    }
   ],
   "source": [
    "# Write a program that prints out all the elements of the list that are less than 5. \n",
    "a = [1, 1, 2, 3, 5, 8, 13, 21, 34, 55, 89] \n",
    "\n",
    "x=[i for i in a if i <5] \n",
    "print(x)"
   ]
  }
 ],
 "metadata": {
  "kernelspec": {
   "display_name": "Python 3",
   "language": "python",
   "name": "python3"
  },
  "language_info": {
   "codemirror_mode": {
    "name": "ipython",
    "version": 3
   },
   "file_extension": ".py",
   "mimetype": "text/x-python",
   "name": "python",
   "nbconvert_exporter": "python",
   "pygments_lexer": "ipython3",
   "version": "3.8.8"
  }
 },
 "nbformat": 4,
 "nbformat_minor": 5
}
